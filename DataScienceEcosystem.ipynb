{
 "metadata": {
  "name": "",
  "signature": "sha256:9debd5dc399e08197d939d579e6dcf268b039dcb1aa7db4862a406d1a367a61f"
 },
 "nbformat": 3,
 "nbformat_minor": 0,
 "worksheets": [
  {
   "cells": [
    {
     "cell_type": "markdown",
     "metadata": {},
     "source": [
      "# Data Science Tools and Ecosystem\n",
      "\n",
      "##Treasure Data has a [python client](https://github.com/treasure-data/td-client-python), which means pandas/python users can connect directly from their iPython Notebooks.\n",
      "\n",
      "All you need is a Treasure Data account, which you can get from [here](https://console.treasuredata.com/users/sign_up)"
     ]
    }
   
   ],
   "metadata": {}
  }
 ]
}
