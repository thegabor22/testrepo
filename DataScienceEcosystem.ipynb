{
 "metadata": {
  "name": "",
  "signature": "sha256:9debd5dc399e08197d939d579e6dcf268b039dcb1aa7db4862a406d1a367a61f"
 },
 "nbformat": 3,
 "nbformat_minor": 0,
 "worksheets": [
  {
   "cells": [


{ "cell_type": "markdown",
     "metadata": {},
     "source": [
      "# Data Science Tools and Ecosystem\n"
]},


{ "cell_type": "markdown",
     "metadata": {},
     "source": [
      "In this notebook, Data Science Tools and Ecosystem are summarized.\n",
      "\n"
]},

{ "cell_type": "markdown",
     "metadata": {},
     "source": [
      "Some of the popular languages that Data Scientists use are:\n",
      "* Python\n", "* SQL\n", "* R\n"
]},

{ "cell_type": "markdown",
     "metadata": {},
     "source": [
      "Some of the commonly used libraries used by Data Scientists include:\n",
      "* Pandas\n", "* NumPy\n", "* TensorFlow\n"
]},


{ "cell_type": "markdown",
     "metadata": {},
     "source": [

      "<table>\n",
      "<tr>\n",
      "<th>Data Science Tools</th>\n",
      "</tr>\n",
      "<tr>\n",
      "<td>Hadoop</td>\n",
      "</tr>\n",
      "<tr>\n",
      "<td>Spark</td>\n",
      "</tr>\n",
      "<tr>\n",
      "<td>Pandas</td>\n",
      "</tr>\n",
      "</table>"
]},


{ "cell_type": "markdown",
     "metadata": {},
     "source": [
      "###Below are a few examples of evaluating arithmetic expressions in Python"
]},



 {
     "cell_type": "code",
     "collapsed": false,
     "input": [
      "%%This a simple arithmetic expression to mutiply then add integers\n",
      "echo \"hi, stdout\"\n",
      "echo \"hello, stderr\" >&2\n"
     ],
     "language": "python",
     "metadata": {},
     "outputs": [
      {
       "output_type": "stream",
       "stream": "stdout",
       "text": [
        "hi, stdout\n"
       ]
      }]}




   
   ],
   "metadata": {}
  }
 ]
}
