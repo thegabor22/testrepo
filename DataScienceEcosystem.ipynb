{
 "metadata": {
  "name": "",
  "signature": "sha256:9debd5dc399e08197d939d579e6dcf268b039dcb1aa7db4862a406d1a367a61f"
 },
 "nbformat": 3,
 "nbformat_minor": 0,
 "worksheets": [
  {
   "cells": [


{ "cell_type": "markdown",
     "metadata": {},
     "source": [
      "# Data Science Tools and Ecosystem\n"
]},


{ "cell_type": "markdown",
     "metadata": {},
     "source": [
      "In this notebook, Data Science Tools and Ecosystem are summarized.\n",
      "\n"
]},

{ "cell_type": "markdown",
     "metadata": {},
     "source": [
      "Some of the popular languages that Data Scientists use are:\n",
      "* Python\n", "* SQL\n", "* R\n"
]},

{ "cell_type": "markdown",
     "metadata": {},
     "source": [
      "Some of the commonly used libraries used by Data Scientists include:\n",
      "* Pandas\n", "* NumPy\n", "* TensorFlow\n"
]},


{ "cell_type": "markdown",
     "metadata": {},
     "source": [

      "<table>\n",
      "<tr>\n",
      "<th>Data Science Tools</th>\n",
      "</tr>\n",
      "<tr>\n",
      "<td>Hadoop</td>\n",
      "</tr>\n",
      "<tr>\n",
      "<td>Spark</td>\n",
      "</tr>\n",
      "<tr>\n",
      "<td>Pandas</td>\n",
      "</tr>\n",
      "</table>"
]},


{ "cell_type": "markdown",
     "metadata": {},
     "source": [
      "###Below are a few examples of evaluating arithmetic expressions in Python"
]},



 {
     "cell_type": "code",
     "collapsed": false,
     "input": [
      "This a simple arithmetic expression to mutiply then add integers\n\n",
      "a = 3\n","b = 4\n","c = 5\n", "d = (a*b)+c\n","print(d)\n"
      
     ],
     "language": "python",
     "metadata": {},
     "outputs": [
      {
       "output_type": "stream",
       "stream": "stdout",
       "text": [
        "17\n"
       ]
      }]},

 {
     "cell_type": "code",
     "collapsed": false,
     "input": [
      "This will convert 200 minutes to hours by diving by 60\n\n",
      "totalminutes = 200\n","minutes = 60\n","hours = totalminutes/minutes\n","print(hours)\n"
      
     ],
     "language": "python",
     "metadata": {},
     "outputs": [
      {
       "output_type": "stream",
       "stream": "stdout",
       "text": [
        "3.3333333333333335\n"
       ]
      }]}


   
   ],
   "metadata": {}
  }
 ]
}
