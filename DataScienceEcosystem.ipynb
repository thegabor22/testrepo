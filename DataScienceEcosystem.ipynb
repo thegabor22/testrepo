{
 "metadata": {
  "name": "",
  "signature": "sha256:9debd5dc399e08197d939d579e6dcf268b039dcb1aa7db4862a406d1a367a61f"
 },
 "nbformat": 3,
 "nbformat_minor": 0,
 "worksheets": [
  {
   "cells": [
    {
     "cell_type": "markdown",
     "metadata": {},
     "source": [
      "# Data Science Tools and Ecosystem\n",
      "\n",
      "In this notebook, Data Science Tools and Ecosystem are summarized.\n",
      "\n",
      "Some of the popular languages that Data Scientists use are:\n",
      "* Python\n", "* SQL\n", "* R\n",
      "Some of the commonly used libraries used by Data Scientists include:\n",
      "* Pandas\n", "* NumPy\n", "* TensorFlow\n",



| Column 1 | Column 2 | Column 3 |
|:--------:|:--------:|:--------:|
|  Row 1   |  Row 1   |  Row 1   |
|  Row 2   |  Row 2   |  Row 2   |
|  Row 3   |  Row 3   |  Row 3   |




     ]
    }
   
   ],
   "metadata": {}
  }
 ]
}
